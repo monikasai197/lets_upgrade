{
  "nbformat": 4,
  "nbformat_minor": 0,
  "metadata": {
    "colab": {
      "name": "Day-3 solution.ipynb",
      "provenance": [],
      "collapsed_sections": [],
      "include_colab_link": true
    },
    "kernelspec": {
      "name": "python3",
      "display_name": "Python 3"
    }
  },
  "cells": [
    {
      "cell_type": "markdown",
      "metadata": {
        "id": "view-in-github",
        "colab_type": "text"
      },
      "source": [
        "<a href=\"https://colab.research.google.com/github/monikasai197/lets_upgrade/blob/master/Day_3_solution.ipynb\" target=\"_parent\"><img src=\"https://colab.research.google.com/assets/colab-badge.svg\" alt=\"Open In Colab\"/></a>"
      ]
    },
    {
      "cell_type": "code",
      "metadata": {
        "id": "pO7SkdMZOnEJ",
        "colab_type": "code",
        "outputId": "e7b8d4ab-2aa0-4b64-aa97-dd82c0190e3e",
        "colab": {
          "base_uri": "https://localhost:8080/",
          "height": 84
        }
      },
      "source": [
        "#progrm-1#\n",
        "n=int(input(\"enter marks\"))\n",
        "print(\"|----------|\")\n",
        "if(n>=91 and n<=99):\n",
        "  print(\"|     A     |\")\n",
        "elif(n>=81 and n<=90):\n",
        "  print(\"|     B     |\")\n",
        "elif(n>=71 and n<=80):\n",
        "  print(\"|     C     |\")\n",
        "elif(n>=61 and n<=70):\n",
        "  print(\"|     D     |\")\n",
        "elif(n>=35 and n<=60):\n",
        "  print(\"|     E     |\")\n",
        "else:\n",
        "  print(\"|     Fail     |\")\n",
        "print(\"|----------|\")"
      ],
      "execution_count": 0,
      "outputs": [
        {
          "output_type": "stream",
          "text": [
            "enter marks46\n",
            "|----------|\n",
            "|     E     |\n",
            "|----------|\n"
          ],
          "name": "stdout"
        }
      ]
    },
    {
      "cell_type": "code",
      "metadata": {
        "id": "ajWvBfFITWhq",
        "colab_type": "code",
        "outputId": "454376fb-130f-4fd2-9079-c457df875e41",
        "colab": {
          "base_uri": "https://localhost:8080/",
          "height": 50
        }
      },
      "source": [
        "#progrm-2#\n",
        "com=170\n",
        "a=com+10\n",
        "b=com-10\n",
        "player=int(input(\"enter score\"))\n",
        "if(player>1 and player<250):\n",
        "  if(player>a and player>b):\n",
        "    print(\"You are true Indian fan\")\n",
        "  else:\n",
        "    print(\"You are not Indian fan\")\n",
        "else:\n",
        "  print(\"Reduce your expectation for 20-20 cricket\")\n",
        "  "
      ],
      "execution_count": 0,
      "outputs": [
        {
          "output_type": "stream",
          "text": [
            "enter score200\n",
            "You are true Indian fan\n"
          ],
          "name": "stdout"
        }
      ]
    },
    {
      "cell_type": "code",
      "metadata": {
        "id": "aPznbczeX3vR",
        "colab_type": "code",
        "outputId": "39208e3c-0626-45ed-90cf-f7b056334354",
        "colab": {
          "base_uri": "https://localhost:8080/",
          "height": 34
        }
      },
      "source": [
        "#program-3#\n",
        "file=open(\"fcs.txt\",'w')\n",
        "file.write(\"I love FCS\")\n",
        "file.close()\n",
        "file=open(\"fcs.txt\",'r')\n",
        "print(file.read())\n",
        "file.close()"
      ],
      "execution_count": 0,
      "outputs": [
        {
          "output_type": "stream",
          "text": [
            "I love FCS\n"
          ],
          "name": "stdout"
        }
      ]
    },
    {
      "cell_type": "code",
      "metadata": {
        "id": "d8rwkJStbkpV",
        "colab_type": "code",
        "outputId": "45c296ef-223d-4b83-8347-39fcf0dbde79",
        "colab": {
          "base_uri": "https://localhost:8080/",
          "height": 101
        }
      },
      "source": [
        "#program-4#\n",
        "l=int(input(\"enter length of a photo\"))\n",
        "d=l*l\n",
        "n=int(input(\"enter no of photos\"))\n",
        "w=int(input(\"enter width of photo\"))\n",
        "h=int(input(\"height of photo\"))\n",
        "d1=w*h\n",
        "if(w<1 or h<1):\n",
        "  print(\"Upload another photo\")\n",
        "elif(w==1 or h==1):\n",
        "  print(\"Accept the photo\")\n",
        "else:\n",
        "  print(\"Crop the photo\")"
      ],
      "execution_count": 0,
      "outputs": [
        {
          "output_type": "stream",
          "text": [
            "enter length of a photo5\n",
            "enter no of photos1\n",
            "enter width of photo5\n",
            "height of photo5\n",
            "Crop the photo\n"
          ],
          "name": "stdout"
        }
      ]
    },
    {
      "cell_type": "code",
      "metadata": {
        "id": "EIbxEniecxIW",
        "colab_type": "code",
        "outputId": "bdfd8276-3374-4265-ab33-54e60535febd",
        "colab": {
          "base_uri": "https://localhost:8080/",
          "height": 50
        }
      },
      "source": [
        "#program-5#\n",
        "x,y=(0,0)\n",
        "s=input(\"enter your string\")\n",
        "for i in range(len(s)):\n",
        "  if s[i]=='L':\n",
        "    x=x-1\n",
        "  elif s[i]=='R':\n",
        "    x=x+1\n",
        "  elif s[i]=='U':\n",
        "    y=y+1\n",
        "  elif s[i]=='D':\n",
        "    y=y-1\n",
        "print(x,y)"
      ],
      "execution_count": 0,
      "outputs": [
        {
          "output_type": "stream",
          "text": [
            "enter your stringLLRDDR\n",
            "0 -2\n"
          ],
          "name": "stdout"
        }
      ]
    },
    {
      "cell_type": "code",
      "metadata": {
        "id": "Ef1RPHtjkNfH",
        "colab_type": "code",
        "colab": {}
      },
      "source": [
        ""
      ],
      "execution_count": 0,
      "outputs": []
    }
  ]
}