{
  "nbformat": 4,
  "nbformat_minor": 0,
  "metadata": {
    "colab": {
      "name": "Day 4 program & project solution.ipynb",
      "provenance": [],
      "collapsed_sections": [],
      "include_colab_link": true
    },
    "kernelspec": {
      "name": "python3",
      "display_name": "Python 3"
    }
  },
  "cells": [
    {
      "cell_type": "markdown",
      "metadata": {
        "id": "view-in-github",
        "colab_type": "text"
      },
      "source": [
        "<a href=\"https://colab.research.google.com/github/monikasai197/lets_upgrade/blob/master/Day_4_program_%26_project_solution.ipynb\" target=\"_parent\"><img src=\"https://colab.research.google.com/assets/colab-badge.svg\" alt=\"Open In Colab\"/></a>"
      ]
    },
    {
      "cell_type": "code",
      "metadata": {
        "id": "SNST2aGHraCM",
        "colab_type": "code",
        "outputId": "ea89d57f-33ff-49fc-c91d-2272562e0181",
        "colab": {
          "base_uri": "https://localhost:8080/",
          "height": 34
        }
      },
      "source": [
        "#program#\n",
        "list=[1,5,6,4,1,2,3,5]\n",
        "sub_list=[1,1,5]\n",
        "flag=1\n",
        "if(all(x in list for x in sub_list)):\n",
        "  flag=1\n",
        "if(flag):\n",
        "  print(\"its match\")\n",
        "else:\n",
        "  print(\"its gone\")"
      ],
      "execution_count": 0,
      "outputs": [
        {
          "output_type": "stream",
          "text": [
            "its match\n"
          ],
          "name": "stdout"
        }
      ]
    },
    {
      "cell_type": "code",
      "metadata": {
        "id": "WHe3qr3Wu2Y_",
        "colab_type": "code",
        "outputId": "24d0a57b-d6e2-445b-d38b-820be7dd7699",
        "colab": {
          "base_uri": "https://localhost:8080/",
          "height": 487
        }
      },
      "source": [
        "#project#\n",
        "import numpy as np \n",
        "import random \n",
        "from time import sleep \n",
        "\n",
        "def create_board(): \n",
        "\treturn(np.array([[0, 0, 0], \n",
        "\t\t\t\t\t[0, 0, 0], \n",
        "\t\t\t\t\t[0, 0, 0]])) \n",
        " \n",
        "def possibilities(board): \n",
        "\tl = [] \n",
        "\t\n",
        "\tfor i in range(len(board)): \n",
        "\t\tfor j in range(len(board)): \n",
        "\t\t\t\n",
        "\t\t\tif board[i][j] == 0: \n",
        "\t\t\t\tl.append((i, j)) \n",
        "\treturn(l) \n",
        "def random_place(board, player): \n",
        "\tselection = possibilities(board) \n",
        "\tcurrent_loc = random.choice(selection) \n",
        "\tboard[current_loc] = player \n",
        "\treturn(board)  \n",
        "def row_win(board, player): \n",
        "\tfor x in range(len(board)): \n",
        "\t\twin = True\n",
        "\t\t\n",
        "\t\tfor y in range(len(board)): \n",
        "\t\t\tif board[x, y] != player: \n",
        "\t\t\t\twin = False\n",
        "\t\t\t\tcontinue\n",
        "\t\t\t\t\n",
        "\t\tif win == True: \n",
        "\t\t\treturn(win) \n",
        "\treturn(win) \n",
        "\n",
        "def col_win(board, player): \n",
        "\tfor x in range(len(board)): \n",
        "\t\twin = True\n",
        "\t\t\n",
        "\t\tfor y in range(len(board)): \n",
        "\t\t\tif board[y][x] != player: \n",
        "\t\t\t\twin = False\n",
        "\t\t\t\tcontinue\n",
        "\t\t\t\t\n",
        "\t\tif win == True: \n",
        "\t\t\treturn(win) \n",
        "\treturn(win) \n",
        " \n",
        "def diag_win(board, player): \n",
        "\twin = True\n",
        "\ty = 0\n",
        "\tfor x in range(len(board)): \n",
        "\t\tif board[x, x] != player: \n",
        "\t\t\twin = False\n",
        "\twin = True\n",
        "\tif win: \n",
        "\t\tfor x in range(len(board)): \n",
        "\t\t\ty = len(board) - 1 - x \n",
        "\t\t\tif board[x, y] != player: \n",
        "\t\t\t\twin = False\n",
        "\treturn win \n",
        "def evaluate(board): \n",
        "\twinner = 0\n",
        "\t\n",
        "\tfor player in [1, 2]: \n",
        "\t\tif (row_win(board, player) or\n",
        "\t\t\tcol_win(board,player) or\n",
        "\t\t\tdiag_win(board,player)): \n",
        "\t\t\t\t\n",
        "\t\t\twinner = player \n",
        "\t\t\t\n",
        "\tif np.all(board != 0) and winner == 0: \n",
        "\t\twinner = -1\n",
        "\treturn winner \n",
        "\n",
        "\n",
        "def play_game(): \n",
        "\tboard, winner, counter = create_board(), 0, 1\n",
        "\tprint(board) \n",
        "\tsleep(2) \n",
        "\t\n",
        "\twhile winner == 0: \n",
        "\t\tfor player in [1, 2]: \n",
        "\t\t\tboard = random_place(board, player) \n",
        "\t\t\tprint(\"Board after \" + str(counter) + \" move\") \n",
        "\t\t\tprint(board) \n",
        "\t\t\tsleep(2) \n",
        "\t\t\tcounter += 1\n",
        "\t\t\twinner = evaluate(board) \n",
        "\t\t\tif winner != 0: \n",
        "\t\t\t\tbreak\n",
        "\treturn(winner) \n",
        " \n",
        "print(\"Winner is: \" + str(play_game())) "
      ],
      "execution_count": 0,
      "outputs": [
        {
          "output_type": "stream",
          "text": [
            "[[0 0 0]\n",
            " [0 0 0]\n",
            " [0 0 0]]\n",
            "Board after 1 move\n",
            "[[0 0 0]\n",
            " [0 0 0]\n",
            " [0 1 0]]\n",
            "Board after 2 move\n",
            "[[0 0 0]\n",
            " [0 0 2]\n",
            " [0 1 0]]\n",
            "Board after 3 move\n",
            "[[0 0 0]\n",
            " [0 1 2]\n",
            " [0 1 0]]\n",
            "Board after 4 move\n",
            "[[0 0 2]\n",
            " [0 1 2]\n",
            " [0 1 0]]\n",
            "Board after 5 move\n",
            "[[0 0 2]\n",
            " [1 1 2]\n",
            " [0 1 0]]\n",
            "Board after 6 move\n",
            "[[0 0 2]\n",
            " [1 1 2]\n",
            " [0 1 2]]\n",
            "Winner is: 2\n"
          ],
          "name": "stdout"
        }
      ]
    },
    {
      "cell_type": "code",
      "metadata": {
        "id": "NbpViNPhx3w6",
        "colab_type": "code",
        "colab": {}
      },
      "source": [
        ""
      ],
      "execution_count": 0,
      "outputs": []
    }
  ]
}