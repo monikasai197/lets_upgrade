{
  "nbformat": 4,
  "nbformat_minor": 0,
  "metadata": {
    "colab": {
      "name": "Day-4 solution.ipynb",
      "provenance": [],
      "authorship_tag": "ABX9TyNZIacewDZOqp9+sxKDujbi",
      "include_colab_link": true
    },
    "kernelspec": {
      "name": "python3",
      "display_name": "Python 3"
    }
  },
  "cells": [
    {
      "cell_type": "markdown",
      "metadata": {
        "id": "view-in-github",
        "colab_type": "text"
      },
      "source": [
        "<a href=\"https://colab.research.google.com/github/monikasai197/lets_upgrade/blob/master/Day_4_solution.ipynb\" target=\"_parent\"><img src=\"https://colab.research.google.com/assets/colab-badge.svg\" alt=\"Open In Colab\"/></a>"
      ]
    },
    {
      "cell_type": "code",
      "metadata": {
        "id": "piQcQJQHvu7-",
        "colab_type": "code",
        "colab": {
          "base_uri": "https://localhost:8080/",
          "height": 67
        },
        "outputId": "c8cd39e9-4141-417f-8c87-64d0a9d3e63b"
      },
      "source": [
        "n=input()\n",
        "m=int(input())\n",
        "d=list(n)\n",
        "for i in range(len(n)):\n",
        "    if d[i].isalpha():\n",
        "        a=ord(d[i])+m\n",
        "        if a>122:\n",
        "            a=97+(a-123)\n",
        "        elif a>90 and a<97:\n",
        "            a=65+(a-91)  \n",
        "    elif d[i].isdigit():\n",
        "        a=int(d[i])+m\n",
        "        if a>10:\n",
        "            a=0+(m-1)\n",
        "            d[i]=str(a)\n",
        "        d[i]=str(a)\n",
        "    else:\n",
        "        pass\n",
        "    d[i]=chr(a)\n",
        "print(\"\".join(d))"
      ],
      "execution_count": 5,
      "outputs": [
        {
          "output_type": "stream",
          "text": [
            "All-convoYs-9-be:Alert1.\n",
            "4\n",
            "EpppgsrzsCww\u0003\u0003fiiEpivx\u0005\u0005\n"
          ],
          "name": "stdout"
        }
      ]
    },
    {
      "cell_type": "code",
      "metadata": {
        "id": "BKDFk_4uwkDM",
        "colab_type": "code",
        "colab": {}
      },
      "source": [
        ""
      ],
      "execution_count": 0,
      "outputs": []
    }
  ]
}