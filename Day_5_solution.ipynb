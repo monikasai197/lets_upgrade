{
  "nbformat": 4,
  "nbformat_minor": 0,
  "metadata": {
    "colab": {
      "name": "Day 5 solution.ipynb",
      "provenance": [],
      "authorship_tag": "ABX9TyNHcEOOVgKlmZF0r1NzBRJW",
      "include_colab_link": true
    },
    "kernelspec": {
      "name": "python3",
      "display_name": "Python 3"
    }
  },
  "cells": [
    {
      "cell_type": "markdown",
      "metadata": {
        "id": "view-in-github",
        "colab_type": "text"
      },
      "source": [
        "<a href=\"https://colab.research.google.com/github/monikasai197/lets_upgrade/blob/master/Day_5_solution.ipynb\" target=\"_parent\"><img src=\"https://colab.research.google.com/assets/colab-badge.svg\" alt=\"Open In Colab\"/></a>"
      ]
    },
    {
      "cell_type": "code",
      "metadata": {
        "id": "r62bErrW2mjf",
        "colab_type": "code",
        "outputId": "5b7cea13-80be-4d21-a2a1-bd2db2971bd6",
        "colab": {
          "base_uri": "https://localhost:8080/",
          "height": 50
        }
      },
      "source": [
        "# # Assignment -1 \n",
        "\n",
        "class Bank:\n",
        "    def __init__(self,oname,bal):\n",
        "        self.__balance=bal\n",
        "        self.__owner=oname\n",
        "    def deposit(self,amt):\n",
        "        self.__balance+=amt\n",
        "        print(\"In\",self.__owner,\"account after deposite\",self.__balance)\n",
        "    \n",
        "    def withdrawl(self,amt):\n",
        "        if(self.__balance==0):\n",
        "            print(\"your account is empty\")\n",
        "        elif(self.__balance>=0):\n",
        "            self.__balance-=amt\n",
        "            print(\"In\",self.__owner,\"account after withdrawl\",self.__balance)\n",
        "\n",
        "    \n",
        "    \n",
        "b=Bank('xyz',200000)\n",
        "b.deposit(50000)\n",
        "b.withdrawl(2000)"
      ],
      "execution_count": 0,
      "outputs": [
        {
          "output_type": "stream",
          "text": [
            "In xyz account after deposite 250000\n",
            "In xyz account after withdrawl 248000\n"
          ],
          "name": "stdout"
        }
      ]
    },
    {
      "cell_type": "code",
      "metadata": {
        "id": "8zOz2ZX-236T",
        "colab_type": "code",
        "outputId": "dbb785dd-279b-4361-b98d-ec7dca92d9ba",
        "colab": {
          "base_uri": "https://localhost:8080/",
          "height": 50
        }
      },
      "source": [
        "# # Assignment 2\n",
        "\n",
        "# In[37]:\n",
        "\n",
        "\n",
        "import math\n",
        "class Cone:\n",
        "    def __init__(self,rad,hei):\n",
        "        self.__radius=rad\n",
        "        self.__height=hei\n",
        "    def volume(self):\n",
        "        vol=3.14* (self.__radius**2)*(self.__height/3)\n",
        "        print(\"the volume of cone is\",vol)\n",
        "    def surface_area(self):\n",
        "        base=3.14*(self.__radius)\n",
        "        side=3.14*(self.__radius)*(math.sqrt((self.__radius**2)+(self.__height**2)))\n",
        "        print(\"the surface area of cone is\",base+side)\n",
        "        \n",
        " \n",
        "c=Cone(5,6)\n",
        "c.volume()\n",
        "c.surface_area()"
      ],
      "execution_count": 0,
      "outputs": [
        {
          "output_type": "stream",
          "text": [
            "the volume of cone is 157.0\n",
            "the surface area of cone is 138.32091991173448\n"
          ],
          "name": "stdout"
        }
      ]
    },
    {
      "cell_type": "code",
      "metadata": {
        "id": "vopRbcLo3HFw",
        "colab_type": "code",
        "colab": {}
      },
      "source": [
        ""
      ],
      "execution_count": 0,
      "outputs": []
    }
  ]
}